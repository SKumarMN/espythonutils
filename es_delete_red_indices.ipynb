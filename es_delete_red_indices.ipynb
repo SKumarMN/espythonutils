{
 "cells": [
  {
   "cell_type": "code",
   "execution_count": 19,
   "metadata": {
    "collapsed": false
   },
   "outputs": [],
   "source": [
    "import requests\n",
    "req = requests.request('GET', 'http://slc12abd.us.oracle.com:9200/_cat/indices?v').text\n",
    "\n",
    "\n",
    "file = open(\"testfile.csv\",\"w\")\n",
    "\n",
    "file.write(req)\n",
    "file.close() \n"
   ]
  },
  {
   "cell_type": "code",
   "execution_count": 55,
   "metadata": {
    "collapsed": false
   },
   "outputs": [
    {
     "name": "stdout",
     "output_type": "stream",
     "text": [
      "orcl_es_defaultindex_h920pkx\n",
      "orcl_es_defaultindex_e920p20\n",
      "orcl_es_defaultindex_h920pox\n",
      "orcl_es_defaultindex_e920p21\n",
      "orcl_es_defaultindex_q920p43\n",
      "orcl_es_defaultindex_h920pfx\n",
      "orcl_es_defaultindex_h920p73\n",
      "orcl_es_defaultindex_h920p72\n",
      "orcl_es_defaultindex_h920p75\n",
      "orcl_es_defaultindex_h920p74\n",
      "orcl_es_defaultindex_h920p70\n",
      "orcl_es_defaultindex_h920prx\n",
      "orcl_es_defaultindex_e920p70\n",
      "orcl_es_defaultindex_e920pbx\n",
      "orcl_es_defaultindex_c920p7h\n",
      "orcl_es_defaultindex_e920p71\n",
      "orcl_es_defaultindex_h920pjx\n",
      "orcl_es_defaultindex_h920pnx\n",
      "orcl_es_defaultindex_hc92pdvl\n",
      "orcl_es_defaultindex_lm92pdvl\n",
      "orcl_es_defaultindex_h920p4g\n",
      "orcl_es_defaultindex_h920pex\n",
      "orcl_es_defaultindex_h920p4d\n",
      "orcl_es_defaultindex_h920p4c\n",
      "orcl_es_defaultindex_h920p4f\n",
      "orcl_es_defaultindex_h920p4e\n",
      "orcl_es_defaultindex_cr92pdvl\n",
      "orcl_es_defaultindex_h920pax\n",
      "orcl_es_defaultindex_c920p43\n",
      "orcl_es_defaultindex_e920p40\n",
      "orcl_es_defaultindex_h920pmx\n",
      "orcl_es_defaultindex_e920p41\n",
      "orcl_es_defaultindex_h920p4b\n",
      "orcl_es_defaultindex_h920p4a\n",
      "orcl_es_defaultindex_lm92u015\n",
      "orcl_es_defaultindex_h920pqx\n",
      "orcl_es_defaultindex_lm920mst\n",
      "orcl_es_defaultindex_ep92pdvl\n",
      "orcl_es_defaultindex_h920pdx\n",
      "orcl_es_defaultindex_h920p7g\n",
      "orcl_es_defaultindex_h920phx\n",
      "orcl_es_defaultindex_h920p7f\n",
      "orcl_es_defaultindex_c920p73\n"
     ]
    }
   ],
   "source": [
    "import pandas as pd\n",
    "\n",
    "df = pd.read_csv(\"testfile.csv\", skiprows=0, delim_whitespace=True)\n",
    "\n",
    "for i in df[df.health =='red']['index']:\n",
    "    print(i)\n"
   ]
  },
  {
   "cell_type": "code",
   "execution_count": 51,
   "metadata": {
    "collapsed": true
   },
   "outputs": [],
   "source": []
  },
  {
   "cell_type": "code",
   "execution_count": 53,
   "metadata": {
    "collapsed": false
   },
   "outputs": [
    {
     "name": "stdout",
     "output_type": "stream",
     "text": [
      "{\"acknowledged\":true}\n"
     ]
    }
   ],
   "source": []
  },
  {
   "cell_type": "code",
   "execution_count": null,
   "metadata": {
    "collapsed": true
   },
   "outputs": [],
   "source": []
  }
 ],
 "metadata": {
  "anaconda-cloud": {},
  "kernelspec": {
   "display_name": "Python [default]",
   "language": "python",
   "name": "python3"
  },
  "language_info": {
   "codemirror_mode": {
    "name": "ipython",
    "version": 3
   },
   "file_extension": ".py",
   "mimetype": "text/x-python",
   "name": "python",
   "nbconvert_exporter": "python",
   "pygments_lexer": "ipython3",
   "version": "3.5.2"
  }
 },
 "nbformat": 4,
 "nbformat_minor": 1
}
